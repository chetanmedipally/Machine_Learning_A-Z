{
 "cells": [
  {
   "cell_type": "code",
   "execution_count": 58,
   "metadata": {},
   "outputs": [
    {
     "name": "stdout",
     "output_type": "stream",
     "text": [
      "True\n"
     ]
    }
   ],
   "source": [
    "array1 = ['a','b','c','x']\n",
    "array2 = ['z','y','x']\n",
    "#array3 = [value for value in array1 if value in array2]\n",
    "#array3 = list(set(array1) & set(array2))\n",
    "#array3 = [list(filter(lambda x : x in array1, seq)) for seq in array2]\n",
    "\n",
    "\n",
    "def ContainsCommonItems2(arr1,arr2):\n",
    "    map_table = {}\n",
    "    found = False\n",
    "    for i in range(len(array1)):\n",
    "        if(not map_table.get(array1[i])):\n",
    "            key = array1[i]\n",
    "            map_table[key] = True\n",
    "    for j in range(len(array2)):\n",
    "        if map_table.get(array2[j]):\n",
    "            found = True\n",
    "    if found == True:\n",
    "        print(True)\n",
    "    else:\n",
    "        print(False)\n",
    "                \n",
    "ContainsCommonItems2(array1,array2)"
   ]
  },
  {
   "cell_type": "code",
   "execution_count": 76,
   "metadata": {},
   "outputs": [
    {
     "name": "stdout",
     "output_type": "stream",
     "text": [
      "{4, 5, 6, 7}\n"
     ]
    },
    {
     "data": {
      "text/plain": [
       "False"
      ]
     },
     "execution_count": 76,
     "metadata": {},
     "output_type": "execute_result"
    }
   ],
   "source": [
    "array = [1,2,3,4]\n",
    "i = 0\n",
    "j = len(array)-1\n",
    "target = 8\n",
    "def Complements(array,target):\n",
    "    map_table = set()\n",
    "    for i in range(len(array)):\n",
    "        if (target - array[i]) in map_table :\n",
    "            return True\n",
    "        map_table.add(target - array[i])\n",
    "    print(map_table)\n",
    "    return False\n",
    "Complements(array,target=target)"
   ]
  },
  {
   "cell_type": "code",
   "execution_count": 54,
   "metadata": {},
   "outputs": [
    {
     "name": "stdout",
     "output_type": "stream",
     "text": [
      "( 4 , 4 )\n"
     ]
    }
   ],
   "source": [
    "import numpy as np\n",
    "import math\n",
    "def funChallenge(input):\n",
    "    for i in range(len(input)):\n",
    "        for j in range(i+1,len(input)):\n",
    "            if ( input[i] + input[j] == 8):\n",
    "                print(\"(\",input[i],\",\",input[j],\")\")\n",
    "                \n",
    "                \n",
    "array = [1,2,4,4]\n",
    "i = 0\n",
    "j = len(array)-1\n",
    "target = 8\n",
    "while i < j:\n",
    "    if ((array[i]+array[j]) == target):\n",
    "        print(\"(\",array[i],\",\",array[j],\")\")\n",
    "        i+=1\n",
    "        j-=1\n",
    "    elif ((array[i]+array[j]) > target):\n",
    "        j-=1\n",
    "    elif((array[i]+array[j]) < target):\n",
    "        i+=1"
   ]
  },
  {
   "cell_type": "code",
   "execution_count": 45,
   "metadata": {},
   "outputs": [
    {
     "name": "stdout",
     "output_type": "stream",
     "text": [
      "Element found in array at position  5  and with  1 attempt from right side\n"
     ]
    }
   ],
   "source": [
    "def linearSearch(arr,x):\n",
    "    left = 0\n",
    "    length = len(arr)\n",
    "    position = -1\n",
    "    right = length -1\n",
    "    for index in range(0,right,1):\n",
    "        if(arr[left] == x):\n",
    "            position = left\n",
    "            print(\"Element found in array at position \",position+1,\" and with \",left+1,\"attempt from left side\")\n",
    "            break\n",
    "        \n",
    "        if(arr[right]==x):\n",
    "            position = right\n",
    "            print(\"Element found in array at position \",position+1,\" and with \",length - right,\"attempt from right side\")\n",
    "            break\n",
    "        left+=1\n",
    "        right-=1\n",
    "        \n",
    "    if(position == -1):\n",
    "        print(\"Element not found in array at position\")\n",
    "            \n",
    "            \n",
    "\n",
    "array = [1, 2, 3, 4, 5]\n",
    "x = 5\n",
    "linearSearch(array,x)"
   ]
  },
  {
   "cell_type": "code",
   "execution_count": 47,
   "metadata": {},
   "outputs": [
    {
     "name": "stdout",
     "output_type": "stream",
     "text": [
      "2\n"
     ]
    }
   ],
   "source": [
    "arr = [1, 2, 3, 4, 5]\n",
    "left = 0\n",
    "length = len(arr)\n",
    "position = -1\n",
    "right = length -1\n",
    "x = 5\n",
    "mid = round((left+right)/2)\n",
    "print(mid)"
   ]
  }
 ],
 "metadata": {
  "kernelspec": {
   "display_name": "Python 3",
   "language": "python",
   "name": "python3"
  },
  "language_info": {
   "codemirror_mode": {
    "name": "ipython",
    "version": 3
   },
   "file_extension": ".py",
   "mimetype": "text/x-python",
   "name": "python",
   "nbconvert_exporter": "python",
   "pygments_lexer": "ipython3",
   "version": "3.6.5"
  }
 },
 "nbformat": 4,
 "nbformat_minor": 4
}
