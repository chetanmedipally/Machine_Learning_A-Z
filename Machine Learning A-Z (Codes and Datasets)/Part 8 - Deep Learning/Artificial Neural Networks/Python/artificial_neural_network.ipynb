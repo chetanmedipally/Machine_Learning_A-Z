{
 "cells": [
  {
   "cell_type": "markdown",
   "metadata": {
    "colab_type": "text",
    "id": "lP6JLo1tGNBg"
   },
   "source": [
    "# Artificial Neural Network"
   ]
  },
  {
   "cell_type": "markdown",
   "metadata": {
    "colab_type": "text",
    "id": "gWZyYmS_UE_L"
   },
   "source": [
    "### Importing the libraries"
   ]
  },
  {
   "cell_type": "code",
   "execution_count": 2,
   "metadata": {},
   "outputs": [],
   "source": [
    "import warnings\n",
    "warnings.filterwarnings('ignore')\n",
    "import pandas as pd\n",
    "import numpy as np\n",
    "import tensorflow as tf"
   ]
  },
  {
   "cell_type": "code",
   "execution_count": 3,
   "metadata": {},
   "outputs": [
    {
     "data": {
      "text/plain": [
       "'2.5.0'"
      ]
     },
     "execution_count": 3,
     "metadata": {},
     "output_type": "execute_result"
    }
   ],
   "source": [
    "tf.__version__"
   ]
  },
  {
   "cell_type": "markdown",
   "metadata": {
    "colab_type": "text",
    "id": "1E0Q3aoKUCRX"
   },
   "source": [
    "## Part 1 - Data Preprocessing"
   ]
  },
  {
   "cell_type": "markdown",
   "metadata": {
    "colab_type": "text",
    "id": "cKWAkFVGUU0Z"
   },
   "source": [
    "### Importing the dataset"
   ]
  },
  {
   "cell_type": "code",
   "execution_count": 5,
   "metadata": {},
   "outputs": [],
   "source": [
    "dataset = pd.read_csv('Churn_Modelling.csv')\n",
    "X = dataset.iloc[:, 3:-1].values\n",
    "y = dataset.iloc[:, -1].values"
   ]
  },
  {
   "cell_type": "code",
   "execution_count": 6,
   "metadata": {},
   "outputs": [
    {
     "name": "stdout",
     "output_type": "stream",
     "text": [
      "[[619 'France' 'Female' ... 1 1 101348.88]\n",
      " [608 'Spain' 'Female' ... 0 1 112542.58]\n",
      " [502 'France' 'Female' ... 1 0 113931.57]\n",
      " ...\n",
      " [709 'France' 'Female' ... 0 1 42085.58]\n",
      " [772 'Germany' 'Male' ... 1 0 92888.52]\n",
      " [792 'France' 'Female' ... 1 0 38190.78]]\n",
      "[1 0 1 ... 1 1 0]\n"
     ]
    }
   ],
   "source": [
    "print(X)\n",
    "print(y)"
   ]
  },
  {
   "cell_type": "markdown",
   "metadata": {
    "colab_type": "text",
    "id": "N6bQ0UgSU-NJ"
   },
   "source": [
    "### Encoding categorical data"
   ]
  },
  {
   "cell_type": "markdown",
   "metadata": {
    "colab_type": "text",
    "id": "le5MJreAbW52"
   },
   "source": [
    "Label Encoding the \"Gender\" column"
   ]
  },
  {
   "cell_type": "code",
   "execution_count": 8,
   "metadata": {},
   "outputs": [],
   "source": [
    "from sklearn.preprocessing import LabelEncoder\n",
    "le = LabelEncoder()\n",
    "X[:, 2] = le.fit_transform(X[:, 2])"
   ]
  },
  {
   "cell_type": "code",
   "execution_count": 9,
   "metadata": {},
   "outputs": [
    {
     "name": "stdout",
     "output_type": "stream",
     "text": [
      "[[619 'France' 0 ... 1 1 101348.88]\n",
      " [608 'Spain' 0 ... 0 1 112542.58]\n",
      " [502 'France' 0 ... 1 0 113931.57]\n",
      " ...\n",
      " [709 'France' 0 ... 0 1 42085.58]\n",
      " [772 'Germany' 1 ... 1 0 92888.52]\n",
      " [792 'France' 0 ... 1 0 38190.78]]\n"
     ]
    }
   ],
   "source": [
    "print(X)"
   ]
  },
  {
   "cell_type": "markdown",
   "metadata": {
    "colab_type": "text",
    "id": "CUxGZezpbMcb"
   },
   "source": [
    "One Hot Encoding the \"Geography\" column"
   ]
  },
  {
   "cell_type": "code",
   "execution_count": 10,
   "metadata": {},
   "outputs": [],
   "source": [
    "from sklearn.compose import ColumnTransformer\n",
    "from sklearn.preprocessing import OneHotEncoder\n",
    "ct = ColumnTransformer(transformers=[('encoder',OneHotEncoder(), [1])],remainder='passthrough')\n",
    "X = np.array(ct.fit_transform(X))"
   ]
  },
  {
   "cell_type": "code",
   "execution_count": 11,
   "metadata": {},
   "outputs": [
    {
     "name": "stdout",
     "output_type": "stream",
     "text": [
      "[[1.0 0.0 0.0 ... 1 1 101348.88]\n",
      " [0.0 0.0 1.0 ... 0 1 112542.58]\n",
      " [1.0 0.0 0.0 ... 1 0 113931.57]\n",
      " ...\n",
      " [1.0 0.0 0.0 ... 0 1 42085.58]\n",
      " [0.0 1.0 0.0 ... 1 0 92888.52]\n",
      " [1.0 0.0 0.0 ... 1 0 38190.78]]\n"
     ]
    }
   ],
   "source": [
    "print(X)"
   ]
  },
  {
   "cell_type": "markdown",
   "metadata": {
    "colab_type": "text",
    "id": "vHol938cW8zd"
   },
   "source": [
    "### Splitting the dataset into the Training set and Test set"
   ]
  },
  {
   "cell_type": "code",
   "execution_count": 12,
   "metadata": {},
   "outputs": [],
   "source": [
    "from sklearn.model_selection import train_test_split\n",
    "X_train, X_test, y_train, y_test = train_test_split(X, y, test_size = 0.2,random_state = 0)"
   ]
  },
  {
   "cell_type": "markdown",
   "metadata": {
    "colab_type": "text",
    "id": "RE_FcHyfV3TQ"
   },
   "source": [
    "### Feature Scaling"
   ]
  },
  {
   "cell_type": "code",
   "execution_count": 13,
   "metadata": {},
   "outputs": [],
   "source": [
    "from sklearn.preprocessing import StandardScaler\n",
    "sc = StandardScaler()\n",
    "X_train = sc.fit_transform(X=X_train)\n",
    "X_test = sc.transform(X=X_test)"
   ]
  },
  {
   "cell_type": "code",
   "execution_count": 15,
   "metadata": {},
   "outputs": [
    {
     "name": "stdout",
     "output_type": "stream",
     "text": [
      "[[-1.01460667 -0.5698444   1.74309049 ...  0.64259497 -1.03227043\n",
      "   1.10643166]\n",
      " [-1.01460667  1.75486502 -0.57369368 ...  0.64259497  0.9687384\n",
      "  -0.74866447]\n",
      " [ 0.98560362 -0.5698444  -0.57369368 ...  0.64259497 -1.03227043\n",
      "   1.48533467]\n",
      " ...\n",
      " [ 0.98560362 -0.5698444  -0.57369368 ...  0.64259497 -1.03227043\n",
      "   1.41231994]\n",
      " [-1.01460667 -0.5698444   1.74309049 ...  0.64259497  0.9687384\n",
      "   0.84432121]\n",
      " [-1.01460667  1.75486502 -0.57369368 ...  0.64259497 -1.03227043\n",
      "   0.32472465]]\n"
     ]
    }
   ],
   "source": [
    "print(X_train)"
   ]
  },
  {
   "cell_type": "markdown",
   "metadata": {
    "colab_type": "text",
    "id": "-zfEzkRVXIwF"
   },
   "source": [
    "## Part 2 - Building the ANN"
   ]
  },
  {
   "cell_type": "markdown",
   "metadata": {
    "colab_type": "text",
    "id": "KvdeScabXtlB"
   },
   "source": [
    "### Initializing the ANN"
   ]
  },
  {
   "cell_type": "code",
   "execution_count": 16,
   "metadata": {},
   "outputs": [],
   "source": [
    "ann = tf.keras.models.Sequential()"
   ]
  },
  {
   "cell_type": "markdown",
   "metadata": {
    "colab_type": "text",
    "id": "rP6urV6SX7kS"
   },
   "source": [
    "### Adding the input layer and the first hidden layer"
   ]
  },
  {
   "cell_type": "code",
   "execution_count": 17,
   "metadata": {},
   "outputs": [],
   "source": [
    "ann.add(tf.keras.layers.Dense(units = 6, activation = 'relu'))"
   ]
  },
  {
   "cell_type": "markdown",
   "metadata": {
    "colab_type": "text",
    "id": "BELWAc_8YJze"
   },
   "source": [
    "### Adding the second hidden layer"
   ]
  },
  {
   "cell_type": "code",
   "execution_count": 18,
   "metadata": {},
   "outputs": [],
   "source": [
    "ann.add(tf.keras.layers.Dense(units = 6, activation = 'relu'))"
   ]
  },
  {
   "cell_type": "markdown",
   "metadata": {
    "colab_type": "text",
    "id": "OyNEe6RXYcU4"
   },
   "source": [
    "### Adding the output layer"
   ]
  },
  {
   "cell_type": "code",
   "execution_count": 19,
   "metadata": {},
   "outputs": [],
   "source": [
    "ann.add(tf.keras.layers.Dense(units = 1, activation = 'sigmoid'))"
   ]
  },
  {
   "cell_type": "markdown",
   "metadata": {
    "colab_type": "text",
    "id": "JT4u2S1_Y4WG"
   },
   "source": [
    "## Part 3 - Training the ANN"
   ]
  },
  {
   "cell_type": "markdown",
   "metadata": {
    "colab_type": "text",
    "id": "8GWlJChhY_ZI"
   },
   "source": [
    "### Compiling the ANN"
   ]
  },
  {
   "cell_type": "code",
   "execution_count": 20,
   "metadata": {},
   "outputs": [],
   "source": [
    "ann.compile(optimizer='adam',loss='binary_crossentropy', metrics=['accuracy'])"
   ]
  },
  {
   "cell_type": "markdown",
   "metadata": {
    "colab_type": "text",
    "id": "0QR_G5u7ZLSM"
   },
   "source": [
    "### Training the ANN on the Training set"
   ]
  },
  {
   "cell_type": "code",
   "execution_count": 21,
   "metadata": {
    "scrolled": true
   },
   "outputs": [
    {
     "name": "stdout",
     "output_type": "stream",
     "text": [
      "Epoch 1/100\n",
      "250/250 [==============================] - 1s 641us/step - loss: 0.5582 - accuracy: 0.7153\n",
      "Epoch 2/100\n",
      "250/250 [==============================] - 0s 637us/step - loss: 0.4509 - accuracy: 0.8024\n",
      "Epoch 3/100\n",
      "250/250 [==============================] - 0s 573us/step - loss: 0.4277 - accuracy: 0.8099\n",
      "Epoch 4/100\n",
      "250/250 [==============================] - 0s 616us/step - loss: 0.4144 - accuracy: 0.8155\n",
      "Epoch 5/100\n",
      "250/250 [==============================] - 0s 632us/step - loss: 0.4025 - accuracy: 0.8231\n",
      "Epoch 6/100\n",
      "250/250 [==============================] - 0s 628us/step - loss: 0.3897 - accuracy: 0.8311\n",
      "Epoch 7/100\n",
      "250/250 [==============================] - 0s 680us/step - loss: 0.3773 - accuracy: 0.8434\n",
      "Epoch 8/100\n",
      "250/250 [==============================] - 0s 566us/step - loss: 0.3670 - accuracy: 0.8519\n",
      "Epoch 9/100\n",
      "250/250 [==============================] - 0s 584us/step - loss: 0.3604 - accuracy: 0.8561\n",
      "Epoch 10/100\n",
      "250/250 [==============================] - 0s 620us/step - loss: 0.3556 - accuracy: 0.8568\n",
      "Epoch 11/100\n",
      "250/250 [==============================] - 0s 573us/step - loss: 0.3516 - accuracy: 0.8589\n",
      "Epoch 12/100\n",
      "250/250 [==============================] - 0s 661us/step - loss: 0.3488 - accuracy: 0.8584\n",
      "Epoch 13/100\n",
      "250/250 [==============================] - 0s 701us/step - loss: 0.3472 - accuracy: 0.8581\n",
      "Epoch 14/100\n",
      "250/250 [==============================] - 0s 609us/step - loss: 0.3455 - accuracy: 0.8594\n",
      "Epoch 15/100\n",
      "250/250 [==============================] - 0s 597us/step - loss: 0.3446 - accuracy: 0.8593\n",
      "Epoch 16/100\n",
      "250/250 [==============================] - 0s 577us/step - loss: 0.3435 - accuracy: 0.8606\n",
      "Epoch 17/100\n",
      "250/250 [==============================] - 0s 730us/step - loss: 0.3427 - accuracy: 0.8611\n",
      "Epoch 18/100\n",
      "250/250 [==============================] - 0s 621us/step - loss: 0.3420 - accuracy: 0.8605\n",
      "Epoch 19/100\n",
      "250/250 [==============================] - 0s 665us/step - loss: 0.3411 - accuracy: 0.8610\n",
      "Epoch 20/100\n",
      "250/250 [==============================] - 0s 719us/step - loss: 0.3413 - accuracy: 0.8597\n",
      "Epoch 21/100\n",
      "250/250 [==============================] - 0s 712us/step - loss: 0.3400 - accuracy: 0.8614\n",
      "Epoch 22/100\n",
      "250/250 [==============================] - 0s 641us/step - loss: 0.3398 - accuracy: 0.8599\n",
      "Epoch 23/100\n",
      "250/250 [==============================] - 0s 723us/step - loss: 0.3392 - accuracy: 0.8602\n",
      "Epoch 24/100\n",
      "250/250 [==============================] - 0s 633us/step - loss: 0.3393 - accuracy: 0.8610\n",
      "Epoch 25/100\n",
      "250/250 [==============================] - 0s 601us/step - loss: 0.3384 - accuracy: 0.8602\n",
      "Epoch 26/100\n",
      "250/250 [==============================] - 0s 725us/step - loss: 0.3382 - accuracy: 0.8620\n",
      "Epoch 27/100\n",
      "250/250 [==============================] - 0s 637us/step - loss: 0.3380 - accuracy: 0.8602\n",
      "Epoch 28/100\n",
      "250/250 [==============================] - 0s 589us/step - loss: 0.3371 - accuracy: 0.8618\n",
      "Epoch 29/100\n",
      "250/250 [==============================] - 0s 694us/step - loss: 0.3369 - accuracy: 0.8622\n",
      "Epoch 30/100\n",
      "250/250 [==============================] - 0s 609us/step - loss: 0.3365 - accuracy: 0.8629\n",
      "Epoch 31/100\n",
      "250/250 [==============================] - 0s 613us/step - loss: 0.3360 - accuracy: 0.8612\n",
      "Epoch 32/100\n",
      "250/250 [==============================] - 0s 637us/step - loss: 0.3358 - accuracy: 0.8631\n",
      "Epoch 33/100\n",
      "250/250 [==============================] - 0s 581us/step - loss: 0.3358 - accuracy: 0.8616\n",
      "Epoch 34/100\n",
      "250/250 [==============================] - 0s 613us/step - loss: 0.3351 - accuracy: 0.8619\n",
      "Epoch 35/100\n",
      "250/250 [==============================] - 0s 573us/step - loss: 0.3349 - accuracy: 0.8619\n",
      "Epoch 36/100\n",
      "250/250 [==============================] - 0s 681us/step - loss: 0.3354 - accuracy: 0.8630\n",
      "Epoch 37/100\n",
      "250/250 [==============================] - 0s 701us/step - loss: 0.3348 - accuracy: 0.8630\n",
      "Epoch 38/100\n",
      "250/250 [==============================] - 0s 701us/step - loss: 0.3348 - accuracy: 0.8637\n",
      "Epoch 39/100\n",
      "250/250 [==============================] - 0s 761us/step - loss: 0.3343 - accuracy: 0.8626\n",
      "Epoch 40/100\n",
      "250/250 [==============================] - 0s 637us/step - loss: 0.3340 - accuracy: 0.8639\n",
      "Epoch 41/100\n",
      "250/250 [==============================] - 0s 729us/step - loss: 0.3338 - accuracy: 0.8625\n",
      "Epoch 42/100\n",
      "250/250 [==============================] - 0s 693us/step - loss: 0.3336 - accuracy: 0.8622\n",
      "Epoch 43/100\n",
      "250/250 [==============================] - 0s 725us/step - loss: 0.3331 - accuracy: 0.8645\n",
      "Epoch 44/100\n",
      "250/250 [==============================] - 0s 681us/step - loss: 0.3331 - accuracy: 0.8640\n",
      "Epoch 45/100\n",
      "250/250 [==============================] - 0s 721us/step - loss: 0.3331 - accuracy: 0.8635\n",
      "Epoch 46/100\n",
      "250/250 [==============================] - 0s 629us/step - loss: 0.3331 - accuracy: 0.8637\n",
      "Epoch 47/100\n",
      "250/250 [==============================] - 0s 607us/step - loss: 0.3329 - accuracy: 0.8643\n",
      "Epoch 48/100\n",
      "250/250 [==============================] - 0s 601us/step - loss: 0.3325 - accuracy: 0.8622\n",
      "Epoch 49/100\n",
      "250/250 [==============================] - 0s 648us/step - loss: 0.3324 - accuracy: 0.8635\n",
      "Epoch 50/100\n",
      "250/250 [==============================] - 0s 699us/step - loss: 0.3322 - accuracy: 0.8652\n",
      "Epoch 51/100\n",
      "250/250 [==============================] - 0s 648us/step - loss: 0.3318 - accuracy: 0.8639\n",
      "Epoch 52/100\n",
      "250/250 [==============================] - 0s 925us/step - loss: 0.3320 - accuracy: 0.8631\n",
      "Epoch 53/100\n",
      "250/250 [==============================] - 0s 810us/step - loss: 0.3318 - accuracy: 0.8640\n",
      "Epoch 54/100\n",
      "250/250 [==============================] - 0s 769us/step - loss: 0.3315 - accuracy: 0.8635\n",
      "Epoch 55/100\n",
      "250/250 [==============================] - 0s 765us/step - loss: 0.3313 - accuracy: 0.8650\n",
      "Epoch 56/100\n",
      "250/250 [==============================] - 0s 728us/step - loss: 0.3314 - accuracy: 0.8631\n",
      "Epoch 57/100\n",
      "250/250 [==============================] - 0s 753us/step - loss: 0.3310 - accuracy: 0.8648\n",
      "Epoch 58/100\n",
      "250/250 [==============================] - 0s 726us/step - loss: 0.3313 - accuracy: 0.8646\n",
      "Epoch 59/100\n",
      "250/250 [==============================] - 0s 757us/step - loss: 0.3312 - accuracy: 0.8640\n",
      "Epoch 60/100\n",
      "250/250 [==============================] - 0s 795us/step - loss: 0.3308 - accuracy: 0.8635\n",
      "Epoch 61/100\n",
      "250/250 [==============================] - 0s 765us/step - loss: 0.3308 - accuracy: 0.8650\n",
      "Epoch 62/100\n",
      "250/250 [==============================] - 0s 757us/step - loss: 0.3309 - accuracy: 0.8641\n",
      "Epoch 63/100\n",
      "250/250 [==============================] - 0s 715us/step - loss: 0.3303 - accuracy: 0.8659\n",
      "Epoch 64/100\n",
      "250/250 [==============================] - 0s 761us/step - loss: 0.3302 - accuracy: 0.8648\n",
      "Epoch 65/100\n",
      "250/250 [==============================] - 0s 736us/step - loss: 0.3306 - accuracy: 0.8641\n",
      "Epoch 66/100\n",
      "250/250 [==============================] - 0s 794us/step - loss: 0.3303 - accuracy: 0.8620\n",
      "Epoch 67/100\n",
      "250/250 [==============================] - 0s 727us/step - loss: 0.3299 - accuracy: 0.8648\n",
      "Epoch 68/100\n",
      "250/250 [==============================] - 0s 745us/step - loss: 0.3298 - accuracy: 0.8633\n",
      "Epoch 69/100\n",
      "250/250 [==============================] - 0s 801us/step - loss: 0.3301 - accuracy: 0.8654\n",
      "Epoch 70/100\n",
      "250/250 [==============================] - 0s 747us/step - loss: 0.3293 - accuracy: 0.8660\n",
      "Epoch 71/100\n",
      "250/250 [==============================] - 0s 773us/step - loss: 0.3299 - accuracy: 0.8651\n",
      "Epoch 72/100\n",
      "250/250 [==============================] - 0s 745us/step - loss: 0.3299 - accuracy: 0.8652\n",
      "Epoch 73/100\n",
      "250/250 [==============================] - 0s 768us/step - loss: 0.3301 - accuracy: 0.8661\n",
      "Epoch 74/100\n",
      "250/250 [==============================] - 0s 732us/step - loss: 0.3295 - accuracy: 0.8656\n",
      "Epoch 75/100\n",
      "250/250 [==============================] - 0s 728us/step - loss: 0.3297 - accuracy: 0.8655\n",
      "Epoch 76/100\n",
      "250/250 [==============================] - 0s 737us/step - loss: 0.3296 - accuracy: 0.8635\n",
      "Epoch 77/100\n",
      "250/250 [==============================] - 0s 779us/step - loss: 0.3293 - accuracy: 0.8661\n",
      "Epoch 78/100\n",
      "250/250 [==============================] - 0s 697us/step - loss: 0.3290 - accuracy: 0.8669\n",
      "Epoch 79/100\n"
     ]
    },
    {
     "name": "stdout",
     "output_type": "stream",
     "text": [
      "250/250 [==============================] - 0s 729us/step - loss: 0.3293 - accuracy: 0.8665\n",
      "Epoch 80/100\n",
      "250/250 [==============================] - 0s 713us/step - loss: 0.3294 - accuracy: 0.8650\n",
      "Epoch 81/100\n",
      "250/250 [==============================] - 0s 713us/step - loss: 0.3293 - accuracy: 0.8665\n",
      "Epoch 82/100\n",
      "250/250 [==============================] - 0s 748us/step - loss: 0.3288 - accuracy: 0.8669\n",
      "Epoch 83/100\n",
      "250/250 [==============================] - 0s 756us/step - loss: 0.3286 - accuracy: 0.8646\n",
      "Epoch 84/100\n",
      "250/250 [==============================] - 0s 737us/step - loss: 0.3286 - accuracy: 0.8661\n",
      "Epoch 85/100\n",
      "250/250 [==============================] - 0s 740us/step - loss: 0.3288 - accuracy: 0.8661\n",
      "Epoch 86/100\n",
      "250/250 [==============================] - 0s 680us/step - loss: 0.3291 - accuracy: 0.8648\n",
      "Epoch 87/100\n",
      "250/250 [==============================] - 0s 657us/step - loss: 0.3286 - accuracy: 0.8659\n",
      "Epoch 88/100\n",
      "250/250 [==============================] - 0s 773us/step - loss: 0.3286 - accuracy: 0.8664\n",
      "Epoch 89/100\n",
      "250/250 [==============================] - 0s 717us/step - loss: 0.3285 - accuracy: 0.8666\n",
      "Epoch 90/100\n",
      "250/250 [==============================] - 0s 705us/step - loss: 0.3285 - accuracy: 0.8659\n",
      "Epoch 91/100\n",
      "250/250 [==============================] - 0s 713us/step - loss: 0.3283 - accuracy: 0.8671\n",
      "Epoch 92/100\n",
      "250/250 [==============================] - 0s 731us/step - loss: 0.3283 - accuracy: 0.8668\n",
      "Epoch 93/100\n",
      "250/250 [==============================] - 0s 692us/step - loss: 0.3280 - accuracy: 0.8673\n",
      "Epoch 94/100\n",
      "250/250 [==============================] - 0s 755us/step - loss: 0.3283 - accuracy: 0.8651\n",
      "Epoch 95/100\n",
      "250/250 [==============================] - 0s 736us/step - loss: 0.3283 - accuracy: 0.8659\n",
      "Epoch 96/100\n",
      "250/250 [==============================] - 0s 773us/step - loss: 0.3278 - accuracy: 0.8651\n",
      "Epoch 97/100\n",
      "250/250 [==============================] - 0s 721us/step - loss: 0.3283 - accuracy: 0.8673\n",
      "Epoch 98/100\n",
      "250/250 [==============================] - 0s 737us/step - loss: 0.3278 - accuracy: 0.8649\n",
      "Epoch 99/100\n",
      "250/250 [==============================] - 0s 781us/step - loss: 0.3279 - accuracy: 0.8676\n",
      "Epoch 100/100\n",
      "250/250 [==============================] - 0s 732us/step - loss: 0.3282 - accuracy: 0.8665\n"
     ]
    },
    {
     "data": {
      "text/plain": [
       "<tensorflow.python.keras.callbacks.History at 0x21e9b6a0bc8>"
      ]
     },
     "execution_count": 21,
     "metadata": {},
     "output_type": "execute_result"
    }
   ],
   "source": [
    "ann.fit(X_train, y_train, batch_size = 32, epochs = 100) "
   ]
  },
  {
   "cell_type": "markdown",
   "metadata": {
    "colab_type": "text",
    "id": "tJj5k2MxZga3"
   },
   "source": [
    "## Part 4 - Making the predictions and evaluating the model"
   ]
  },
  {
   "cell_type": "markdown",
   "metadata": {
    "colab_type": "text",
    "id": "84QFoqGYeXHL"
   },
   "source": [
    "### Predicting the result of a single observation"
   ]
  },
  {
   "cell_type": "markdown",
   "metadata": {
    "colab_type": "text",
    "id": "CGRo3eacgDdC"
   },
   "source": [
    "**Homework**\n",
    "\n",
    "Use our ANN model to predict if the customer with the following informations will leave the bank: \n",
    "\n",
    "Geography: France\n",
    "\n",
    "Credit Score: 600\n",
    "\n",
    "Gender: Male\n",
    "\n",
    "Age: 40 years old\n",
    "\n",
    "Tenure: 3 years\n",
    "\n",
    "Balance: \\$ 60000\n",
    "\n",
    "Number of Products: 2\n",
    "\n",
    "Does this customer have a credit card ? Yes\n",
    "\n",
    "Is this customer an Active Member: Yes\n",
    "\n",
    "Estimated Salary: \\$ 50000\n",
    "\n",
    "So, should we say goodbye to that customer ?"
   ]
  },
  {
   "cell_type": "markdown",
   "metadata": {
    "colab_type": "text",
    "id": "ZhU1LTgPg-kH"
   },
   "source": [
    "**Solution**"
   ]
  },
  {
   "cell_type": "code",
   "execution_count": 24,
   "metadata": {},
   "outputs": [
    {
     "data": {
      "text/plain": [
       "array([[ 0.98560362, -0.5698444 , -0.57369368, -0.52111599,  0.91601335,\n",
       "         0.10961719, -0.68538967, -0.2569057 ,  0.8095029 ,  0.64259497,\n",
       "         0.9687384 , -0.87203322]])"
      ]
     },
     "execution_count": 24,
     "metadata": {},
     "output_type": "execute_result"
    }
   ],
   "source": []
  },
  {
   "cell_type": "code",
   "execution_count": 27,
   "metadata": {},
   "outputs": [
    {
     "name": "stdout",
     "output_type": "stream",
     "text": [
      "[[0.04445431]]\n",
      "[[False]]\n"
     ]
    }
   ],
   "source": [
    "print(ann.predict(sc.transform([[1.0, 0.0, 0.0, 600, 1, 40, 3, 60000, 2, 1, 1, 50000]])))\n",
    "print(ann.predict(sc.transform([[1.0, 0.0, 0.0, 600, 1, 40, 3, 60000, 2, 1, 1, 50000]])) > 0.5)"
   ]
  },
  {
   "cell_type": "markdown",
   "metadata": {
    "colab_type": "text",
    "id": "wGjx94g2n7OV"
   },
   "source": [
    "Therefore, our ANN model predicts that this customer stays in the bank!\n",
    "\n",
    "**Important note 1:** Notice that the values of the features were all input in a double pair of square brackets. That's because the \"predict\" method always expects a 2D array as the format of its inputs. And putting our values into a double pair of square brackets makes the input exactly a 2D array.\n",
    "\n",
    "**Important note 2:** Notice also that the \"France\" country was not input as a string in the last column but as \"1, 0, 0\" in the first three columns. That's because of course the predict method expects the one-hot-encoded values of the state, and as we see in the first row of the matrix of features X, \"France\" was encoded as \"1, 0, 0\". And be careful to include these values in the first three columns, because the dummy variables are always created in the first columns."
   ]
  },
  {
   "cell_type": "markdown",
   "metadata": {
    "colab_type": "text",
    "id": "u7yx47jPZt11"
   },
   "source": [
    "### Predicting the Test set results"
   ]
  },
  {
   "cell_type": "code",
   "execution_count": 31,
   "metadata": {},
   "outputs": [
    {
     "name": "stdout",
     "output_type": "stream",
     "text": [
      "[[0 0]\n",
      " [0 1]\n",
      " [0 0]\n",
      " ...\n",
      " [0 0]\n",
      " [0 0]\n",
      " [0 0]]\n"
     ]
    }
   ],
   "source": [
    "y_pred = ann.predict(x=X_test)\n",
    "y_pred = (y_pred > 0.5)\n",
    "print(np.concatenate((y_pred.reshape(len(y_pred),1),y_test.reshape(len(y_test),1)),1))"
   ]
  },
  {
   "cell_type": "markdown",
   "metadata": {
    "colab_type": "text",
    "id": "o0oyfLWoaEGw"
   },
   "source": [
    "### Making the Confusion Matrix"
   ]
  },
  {
   "cell_type": "code",
   "execution_count": 35,
   "metadata": {},
   "outputs": [
    {
     "name": "stdout",
     "output_type": "stream",
     "text": [
      "[[1514   81]\n",
      " [ 197  208]]\n",
      "0.861\n"
     ]
    }
   ],
   "source": [
    "from sklearn.metrics import confusion_matrix,accuracy_score\n",
    "cm = confusion_matrix(y_pred=y_pred,y_true=y_test)\n",
    "print(cm)\n",
    "print(accuracy_score(y_test,y_pred))"
   ]
  }
 ],
 "metadata": {
  "colab": {
   "collapsed_sections": [],
   "name": "artificial_neural_network.ipynb",
   "provenance": [],
   "toc_visible": true
  },
  "kernelspec": {
   "display_name": "Python 3",
   "language": "python",
   "name": "python3"
  },
  "language_info": {
   "codemirror_mode": {
    "name": "ipython",
    "version": 3
   },
   "file_extension": ".py",
   "mimetype": "text/x-python",
   "name": "python",
   "nbconvert_exporter": "python",
   "pygments_lexer": "ipython3",
   "version": "3.7.5"
  }
 },
 "nbformat": 4,
 "nbformat_minor": 1
}
